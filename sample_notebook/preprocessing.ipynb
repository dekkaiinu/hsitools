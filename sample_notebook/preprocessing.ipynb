{
 "cells": [
  {
   "cell_type": "code",
   "execution_count": 1,
   "metadata": {},
   "outputs": [
    {
     "name": "stdout",
     "output_type": "stream",
     "text": [
      "(1080, 2048, 151)\n"
     ]
    }
   ],
   "source": [
    "import numpy as np\n",
    "from hsitools.convert import nh9_to_array\n",
    "\n",
    "\n",
    "hsi_path = '../sample/sample_hsi.nh9'\n",
    "\n",
    "hsi_array = nh9_to_array(hsi_path)\n",
    "hsi_array = hsi_array / 4096\n",
    "print(hsi_array.shape)"
   ]
  },
  {
   "cell_type": "code",
   "execution_count": 2,
   "metadata": {},
   "outputs": [
    {
     "name": "stdout",
     "output_type": "stream",
     "text": [
      "(10000, 151)\n"
     ]
    }
   ],
   "source": [
    "from hsitools.convert import extract_pixels_from_hsi, extract_pixels_from_hsi_mask\n",
    "\n",
    "hs_array = extract_pixels_from_hsi(hsi_array, np.array((100, 100, 200, 200)))\n",
    "print(hs_array.shape)"
   ]
  },
  {
   "cell_type": "markdown",
   "metadata": {},
   "source": [
    "### min_max()\n",
    "min_max正規化を適用する"
   ]
  },
  {
   "cell_type": "code",
   "execution_count": 3,
   "metadata": {},
   "outputs": [
    {
     "name": "stdout",
     "output_type": "stream",
     "text": [
      "1.0\n",
      "0.0\n",
      "[0.03727181 0.0377789  0.03346856 0.0387931  0.0377789  0.03651116\n",
      " 0.03853955 0.0408215  0.04462475 0.05349899]\n",
      "[0.00380325 0.00963489 0.00507099 0.00507099 0.00786004 0.00938134\n",
      " 0.00760649 0.01090264 0.00912779 0.01115619]\n"
     ]
    }
   ],
   "source": [
    "from hsitools.preprocessing import min_max\n",
    "# hs_pixels_minmax = min_max(hs_array, hs_array)\n",
    "hs_pixels_minmax = min_max(hs_array)\n",
    "print(np.max(hs_pixels_minmax))\n",
    "print(np.min(hs_pixels_minmax))\n",
    "print(np.max(hs_pixels_minmax, axis=0)[:10])\n",
    "print(np.min(hs_pixels_minmax, axis=0)[:10])"
   ]
  },
  {
   "cell_type": "markdown",
   "metadata": {},
   "source": [
    "### band_wise_min_max()\n",
    "バンド毎にmin_max正規化を適用する"
   ]
  },
  {
   "cell_type": "code",
   "execution_count": 4,
   "metadata": {},
   "outputs": [
    {
     "name": "stdout",
     "output_type": "stream",
     "text": [
      "1.0\n",
      "0.0\n",
      "[1. 1. 1. 1. 1. 1. 1. 1. 1. 1.]\n",
      "[0. 0. 0. 0. 0. 0. 0. 0. 0. 0.]\n"
     ]
    }
   ],
   "source": [
    "from hsitools.preprocessing import band_wise_min_max\n",
    "# hs_pixels_minmax = band_wise_min_max(hs_array, hs_array)\n",
    "hs_pixels_minmax = band_wise_min_max(hs_array)\n",
    "\n",
    "print(np.max(hs_pixels_minmax))\n",
    "print(np.min(hs_pixels_minmax))\n",
    "print(np.max(hs_pixels_minmax, axis=0)[:10])\n",
    "print(np.min(hs_pixels_minmax, axis=0)[:10])"
   ]
  }
 ],
 "metadata": {
  "kernelspec": {
   "display_name": "hsitools",
   "language": "python",
   "name": "python3"
  },
  "language_info": {
   "codemirror_mode": {
    "name": "ipython",
    "version": 3
   },
   "file_extension": ".py",
   "mimetype": "text/x-python",
   "name": "python",
   "nbconvert_exporter": "python",
   "pygments_lexer": "ipython3",
   "version": "3.8.18"
  }
 },
 "nbformat": 4,
 "nbformat_minor": 2
}
